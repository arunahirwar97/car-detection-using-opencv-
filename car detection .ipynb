{
 "cells": [
  {
   "cell_type": "code",
   "execution_count": 4,
   "metadata": {},
   "outputs": [],
   "source": [
    "import numpy as np\n",
    "import cv2 as cv"
   ]
  },
  {
   "cell_type": "code",
   "execution_count": 9,
   "metadata": {},
   "outputs": [],
   "source": [
    "car = cv.CascadeClassifier('H:/car detection/car.xml')\n",
    "video = cv.VideoCapture('H:/car detection/Car - 2165.mp4')\n",
    "video.set(3,640) # set Width\n",
    "video.set(8,480) # set Height\n",
    "frame_width = int(video.get(3)) \n",
    "frame_height = int(video.get(4)) \n",
    "size = (frame_width, frame_height) \n",
    "result = cv.VideoWriter('H:/car detection/car25.mp4',  cv.VideoWriter_fourcc(*'MJPG'), 10, size) \n",
    "while True:\n",
    "    _,vi = video.read()\n",
    "    \n",
    "    gray = cv.cvtColor(vi,cv.COLOR_BGR2GRAY)\n",
    "    cars = car.detectMultiScale(gray,scaleFactor=1.2,minNeighbors=5,minSize=(20, 20))\n",
    "   \n",
    "    for (x,y,w,h) in cars:\n",
    "        plate = vi[y:y + h, x:x + w]\n",
    "        cv.rectangle(vi,(x,y),(x +w, y +h) ,(51 ,50,255),2)\n",
    "        cv.rectangle(vi, (x, y - 40), (x + w, y), (51,51,255), -2)\n",
    "        cv.putText(vi, 'a CAR', (x, y - 10), cv.FONT_HERSHEY_SIMPLEX, 0.7, (255, 255, 255), 2)\n",
    "        \n",
    "    vi = cv.resize(vi,(600,400))\n",
    "    cv.imshow('Car Detection System', vi)\n",
    "   \n",
    "    # cv2.resizeWindow('Car Detection System', 600, 600)\n",
    "    k = cv.waitKey(30) & 0xff\n",
    "    if k == 27:\n",
    "        break\n",
    "cv.destroyAllWindows()        "
   ]
  },
  {
   "cell_type": "code",
   "execution_count": 10,
   "metadata": {},
   "outputs": [],
   "source": [
    "result.write(vi)        \n"
   ]
  },
  {
   "cell_type": "code",
   "execution_count": null,
   "metadata": {},
   "outputs": [],
   "source": []
  }
 ],
 "metadata": {
  "kernelspec": {
   "display_name": "Python 3",
   "language": "python",
   "name": "python3"
  },
  "language_info": {
   "codemirror_mode": {
    "name": "ipython",
    "version": 3
   },
   "file_extension": ".py",
   "mimetype": "text/x-python",
   "name": "python",
   "nbconvert_exporter": "python",
   "pygments_lexer": "ipython3",
   "version": "3.7.6"
  }
 },
 "nbformat": 4,
 "nbformat_minor": 4
}
